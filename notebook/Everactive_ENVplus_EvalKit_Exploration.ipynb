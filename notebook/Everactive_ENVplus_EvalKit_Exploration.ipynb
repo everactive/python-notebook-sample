{
 "cells": [
  {
   "cell_type": "markdown",
   "id": "aa3038c0",
   "metadata": {},
   "source": [
    "# Everactive ENV+ EvalKit Exploration Notebook"
   ]
  },
  {
   "cell_type": "markdown",
   "id": "eab6f6fa",
   "metadata": {},
   "source": [
    "[![Open In Colab](https://colab.research.google.com/assets/colab-badge.svg)](https://colab.research.google.com/github/everactive/python-notebook-sample/blob/first-draft/Env%2B_EvalKit_Exploration.ipynb)"
   ]
  },
  {
   "cell_type": "markdown",
   "id": "eea15291",
   "metadata": {},
   "source": [
    "This notebook is designed to give you a quickstart to accessing your [ENV+ EvalKit](https://everactive.com/product/environmental-evaluation-kit/) sensor data via the Everactive Data Services API and creating visualizations using your data."
   ]
  },
  {
   "cell_type": "markdown",
   "id": "10c040a8",
   "metadata": {},
   "source": [
    "## Before You Begin\n",
    "* This notebook assumes that you are familiar with programming in Python, notebook operation and execution (e.g. JupyterLab or Google Colab), and the `pandas` library.\n",
    "\n",
    "* We'll use the `altair` library for visualizations. Prior experience with `altair` is not required, but if you would like to learn more about the library and how it works, please visit [their excellent documentation](https://altair-viz.github.io/getting_started/overview.html).\n",
    "\n",
    "* This notebook pulls *your* sensor data, which will be different from the data used to develop this notebook. Though we've endeavored to craft this notebook to accommodate wide range of returned sensor readings, it is possible that your data might contain an unforseen edge case. If that's the case, and your data breaks the notebook or visualizations, please create a GitHub issue."
   ]
  },
  {
   "cell_type": "markdown",
   "id": "c56f1fda",
   "metadata": {},
   "source": [
    "If you're running this notebook in Google Colab, there's a few setup steps that we need to run first to prepare the Colab environment."
   ]
  },
  {
   "cell_type": "code",
   "execution_count": null,
   "id": "b095642e",
   "metadata": {},
   "outputs": [],
   "source": [
    "# Check if we're running locally, or in Google Colab.\n",
    "try:\n",
    "    import google.colab\n",
    "    print(\"Running in Google Colab, installing everactive_envplus library...\")\n",
    "    !pip install \"git+https://github.com/everactive/python-notebook-sample.git@first-draft\"\n",
    "    print(\"Install complete.\")\n",
    "\n",
    "except ModuleNotFoundError:\n",
    "    pass"
   ]
  },
  {
   "cell_type": "markdown",
   "id": "31f81320",
   "metadata": {},
   "source": [
    "## Notebook Imports"
   ]
  },
  {
   "cell_type": "code",
   "execution_count": null,
   "id": "204d5e6f",
   "metadata": {},
   "outputs": [],
   "source": [
    "import altair as alt\n",
    "import pandas as pd\n",
    "\n",
    "import everactive_envplus as ee"
   ]
  },
  {
   "cell_type": "markdown",
   "id": "a3c87faa",
   "metadata": {},
   "source": [
    "The `everactive_envplus` library that we will use within this notebook provides a wrapper around the Everactive Data Services API. Its interface is designed to make pulling your Eversensor and Evergateway data easy. \n",
    "\n",
    "If you'd like to dive deeper into the Everactive Data Services API interface, please check out our [API Documentation](https://docs.api.everactive.com/reference/data-services-api-overview)."
   ]
  },
  {
   "cell_type": "markdown",
   "id": "614b9290",
   "metadata": {},
   "source": [
    "## Provide API Credentials"
   ]
  },
  {
   "cell_type": "markdown",
   "id": "99105acf",
   "metadata": {},
   "source": [
    "<mark>*To get started, provide your API credentials below:*</mark>"
   ]
  },
  {
   "cell_type": "code",
   "execution_count": null,
   "id": "e0a0b429",
   "metadata": {},
   "outputs": [],
   "source": [
    "CLIENT_ID = \"\"\n",
    "CLIENT_SECRET = \"\""
   ]
  },
  {
   "cell_type": "markdown",
   "id": "9160f861",
   "metadata": {},
   "source": [
    "## Establish a Connection to the API"
   ]
  },
  {
   "cell_type": "markdown",
   "id": "4fff03ca",
   "metadata": {},
   "source": [
    "First, we'll use your API credentials to connect to the Everactive Data Services API."
   ]
  },
  {
   "cell_type": "code",
   "execution_count": null,
   "id": "b8ff1149",
   "metadata": {},
   "outputs": [],
   "source": [
    "conn = ee.connection.ApiConnection(\n",
    "    client_id=CLIENT_ID,\n",
    "    client_secret=CLIENT_SECRET\n",
    ")\n",
    "\n",
    "api = ee.EveractiveApi(api_connection=conn)"
   ]
  },
  {
   "cell_type": "markdown",
   "id": "1f61142f",
   "metadata": {
    "tags": []
   },
   "source": [
    "## Pull Eversensors Associated with Your Account"
   ]
  },
  {
   "cell_type": "markdown",
   "id": "1166825c",
   "metadata": {},
   "source": [
    "To get all of the Eversensors associated with your account, use the `get_all_eversensors()` call. All methods that return API data accept an `output_format` argument that specifies `json` (the default) or `pandas`."
   ]
  },
  {
   "cell_type": "code",
   "execution_count": null,
   "id": "9b149485",
   "metadata": {},
   "outputs": [],
   "source": [
    "eversensors = api.get_all_eversensors()\n",
    "print(f\"Fetched {len(eversensors)} eversensors.\")"
   ]
  },
  {
   "cell_type": "code",
   "execution_count": null,
   "id": "83c03f9f",
   "metadata": {},
   "outputs": [],
   "source": [
    "eversensors[0]"
   ]
  },
  {
   "cell_type": "markdown",
   "id": "4b29cc61",
   "metadata": {},
   "source": [
    "## Pull Readings for a Single Eversensor"
   ]
  },
  {
   "cell_type": "code",
   "execution_count": null,
   "id": "ab20e67d",
   "metadata": {},
   "outputs": [],
   "source": [
    "sensor_mac_address = eversensors[0][\"macAddress\"]\n",
    "sensor_mac_address"
   ]
  },
  {
   "cell_type": "markdown",
   "id": "77587166",
   "metadata": {},
   "source": [
    "### Examine Returned Eversensor Reading Schema"
   ]
  },
  {
   "cell_type": "code",
   "execution_count": null,
   "id": "e62d230f",
   "metadata": {},
   "outputs": [],
   "source": [
    "last_reading = api.get_eversensor_last_reading(sensor_mac_address)\n",
    "last_reading"
   ]
  },
  {
   "cell_type": "markdown",
   "id": "3b08e464",
   "metadata": {},
   "source": [
    "### Pull Last 24 Hours of Reported Readings for Eversensor"
   ]
  },
  {
   "cell_type": "code",
   "execution_count": null,
   "id": "b75ab421",
   "metadata": {},
   "outputs": [],
   "source": [
    "start_time = last_reading[\"timestamp\"] - 24*60*60\n",
    "end_time = last_reading[\"timestamp\"]\n",
    "\n",
    "df = api.get_eversensor_readings(\n",
    "    sensor_mac_address,\n",
    "    start_time=start_time,\n",
    "    end_time=end_time,\n",
    "    output_format=\"pandas\"\n",
    ")"
   ]
  },
  {
   "cell_type": "code",
   "execution_count": null,
   "id": "4a0424e3",
   "metadata": {},
   "outputs": [],
   "source": [
    "print(df.shape)\n",
    "df.head()"
   ]
  },
  {
   "cell_type": "markdown",
   "id": "d6738e1d",
   "metadata": {},
   "source": [
    "### Identify Eversensor Movement Events"
   ]
  },
  {
   "cell_type": "markdown",
   "id": "1b8863f2",
   "metadata": {},
   "source": [
    "If there are detected movement events in your retrieved eversensor data, you will see a `movementMeasurement_movement` column in the results DataFrame. We'll pull out any movement events present in the sensor readings."
   ]
  },
  {
   "cell_type": "code",
   "execution_count": null,
   "id": "2b39f823",
   "metadata": {},
   "outputs": [],
   "source": [
    "movement_events = []\n",
    "\n",
    "if \"movementMeasurement_movement\" in df.columns:\n",
    "    movement_detected = df[\"movementMeasurement_movement\"].fillna(False)\n",
    "\n",
    "    for _, row in df[movement_detected].iterrows():\n",
    "        movement_events.append({\n",
    "            \"macAddress\": row[\"macAddress\"],\n",
    "            \"timestamp\" : row[\"timestamp\"],\n",
    "            \"readingDate\" : row[\"readingDate\"],\n",
    "        })\n",
    "\n",
    "df_movements = pd.DataFrame(movement_events)"
   ]
  },
  {
   "cell_type": "code",
   "execution_count": null,
   "id": "ce64b964",
   "metadata": {},
   "outputs": [],
   "source": [
    "df_movements.head()"
   ]
  },
  {
   "cell_type": "markdown",
   "id": "45406477",
   "metadata": {},
   "source": [
    "## Visualize Eversensor Readings"
   ]
  },
  {
   "cell_type": "code",
   "execution_count": null,
   "id": "f823e5c3",
   "metadata": {},
   "outputs": [],
   "source": [
    "CHART_HEIGHT = 300\n",
    "CHART_WIDTH = 700"
   ]
  },
  {
   "cell_type": "code",
   "execution_count": null,
   "id": "c465b5ba",
   "metadata": {},
   "outputs": [],
   "source": [
    "pressure = alt.Chart(df).mark_circle().encode(\n",
    "    alt.X(\"readingDate:T\"),\n",
    "    alt.Y(\"pressureMeasurement:Q\")\n",
    ")\n",
    "\n",
    "movements = alt.Chart(df_movements).mark_rule().encode(\n",
    "    alt.X(\"readingDate:T\")\n",
    ")\n",
    "\n",
    "alt.layer(pressure, movements).properties(height=CHART_HEIGHT, width=CHART_WIDTH)"
   ]
  },
  {
   "cell_type": "code",
   "execution_count": null,
   "id": "3fdfcdca",
   "metadata": {},
   "outputs": [],
   "source": [
    "rssi = alt.Chart(df).mark_circle().encode(\n",
    "    alt.X(\"readingDate:T\"),\n",
    "    alt.Y(\"rssiUplink:Q\")\n",
    ")\n",
    "\n",
    "movements = alt.Chart(df_movements).mark_rule().encode(\n",
    "    alt.X(\"readingDate:T\")\n",
    ")\n",
    "\n",
    "alt.layer(rssi, movements).properties(height=CHART_HEIGHT, width=CHART_WIDTH)"
   ]
  },
  {
   "cell_type": "markdown",
   "id": "15c1247e",
   "metadata": {},
   "source": [
    "## Join the Everactive Community"
   ]
  },
  {
   "cell_type": "code",
   "execution_count": null,
   "id": "a116d342",
   "metadata": {},
   "outputs": [],
   "source": []
  }
 ],
 "metadata": {
  "kernelspec": {
   "display_name": "python-notebook-sample",
   "language": "python",
   "name": "python-notebook-sample"
  },
  "language_info": {
   "codemirror_mode": {
    "name": "ipython",
    "version": 3
   },
   "file_extension": ".py",
   "mimetype": "text/x-python",
   "name": "python",
   "nbconvert_exporter": "python",
   "pygments_lexer": "ipython3",
   "version": "3.9.14"
  }
 },
 "nbformat": 4,
 "nbformat_minor": 5
}
