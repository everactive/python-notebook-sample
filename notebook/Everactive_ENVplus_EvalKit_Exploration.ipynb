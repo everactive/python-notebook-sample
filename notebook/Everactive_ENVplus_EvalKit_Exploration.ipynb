{
 "cells": [
  {
   "cell_type": "markdown",
   "id": "4ea64c8a",
   "metadata": {},
   "source": [
    "# Everactive ENV+ EvalKit Exploration Notebook"
   ]
  },
  {
   "cell_type": "markdown",
   "id": "dd60045d",
   "metadata": {},
   "source": [
    "[![Open In Colab](https://colab.research.google.com/assets/colab-badge.svg)](https://colab.research.google.com/github/everactive/python-notebook-sample/blob/first-draft/notebook/Everactive_ENVplus_EvalKit_Exploration.ipynb)"
   ]
  },
  {
   "cell_type": "markdown",
   "id": "c4104dbe",
   "metadata": {},
   "source": [
    "This notebook is designed to give you a quickstart to accessing your [ENV+ EvalKit](https://everactive.com/product/environmental-evaluation-kit/) sensor data via the Everactive Data Services API and creating visualizations using your data."
   ]
  },
  {
   "cell_type": "markdown",
   "id": "b3337812",
   "metadata": {},
   "source": [
    "## Before You Begin\n",
    "* This notebook assumes that you are familiar with programming in Python, notebook operation and execution (e.g. JupyterLab or Google Colab), and the `pandas` library.\n",
    "\n",
    "* We'll use the `altair` library for visualizations. Prior experience with `altair` is not required, but if you would like to learn more about the library and how it works, please visit [their excellent documentation](https://altair-viz.github.io/getting_started/overview.html).\n",
    "\n",
    "* This notebook pulls *your* sensor data, which will be different from the data used to develop this notebook. Though we've endeavored to craft this notebook to accommodate wide range of returned sensor readings, it is possible that your data might contain an unforseen edge case. If that's the case, and your data breaks the notebook or visualizations, please create a GitHub issue."
   ]
  },
  {
   "cell_type": "markdown",
   "id": "deb5597e",
   "metadata": {},
   "source": [
    "## Google Colab Setup"
   ]
  },
  {
   "cell_type": "markdown",
   "id": "1f4b3501",
   "metadata": {},
   "source": [
    "If you're running this notebook in Google Colab, there's a few setup steps that we need to run first to prepare the Colab environment. (It may take a few minutes for Colab to install the necessary libraries)."
   ]
  },
  {
   "cell_type": "code",
   "execution_count": null,
   "id": "cb4305d8",
   "metadata": {},
   "outputs": [],
   "source": [
    "# Check if we're running locally, or in Google Colab.\n",
    "try:\n",
    "    import google.colab\n",
    "    print(\"Running in Google Colab, installing everactive_envplus library...\")\n",
    "    !pip install \"git+https://github.com/everactive/python-notebook-sample.git@first-draft\"\n",
    "    print(\"Install complete.\")\n",
    "\n",
    "except ModuleNotFoundError:\n",
    "    pass"
   ]
  },
  {
   "cell_type": "markdown",
   "id": "2e7b883b",
   "metadata": {},
   "source": [
    "## Notebook Imports"
   ]
  },
  {
   "cell_type": "code",
   "execution_count": null,
   "id": "54df640d",
   "metadata": {},
   "outputs": [],
   "source": [
    "import altair as alt\n",
    "import pandas as pd\n",
    "\n",
    "import everactive_envplus as ee"
   ]
  },
  {
   "cell_type": "markdown",
   "id": "a891915c",
   "metadata": {},
   "source": [
    "The `everactive_envplus` library that we will use within this notebook provides a wrapper around the Everactive Data Services API. Its interface is designed to make pulling your Eversensor and Evergateway data easy. \n",
    "\n",
    "If you'd like to dive deeper into the Everactive Data Services API interface, please check out our [API Documentation](https://docs.api.everactive.com/reference/data-services-api-overview)."
   ]
  },
  {
   "cell_type": "markdown",
   "id": "fa83617c",
   "metadata": {},
   "source": [
    "## Provide API Credentials"
   ]
  },
  {
   "cell_type": "markdown",
   "id": "f819db83",
   "metadata": {},
   "source": [
    "<mark>*To get started, provide your API credentials below:*</mark>"
   ]
  },
  {
   "cell_type": "code",
   "execution_count": null,
   "id": "c269b3bf",
   "metadata": {},
   "outputs": [],
   "source": [
    "CLIENT_ID = \"\"\n",
    "CLIENT_SECRET = \"\""
   ]
  },
  {
   "cell_type": "markdown",
   "id": "bc5e8900",
   "metadata": {},
   "source": [
    "## Establish a Connection to the API"
   ]
  },
  {
   "cell_type": "markdown",
   "id": "6e2e0271",
   "metadata": {},
   "source": [
    "First, we'll use your API credentials to connect to the Everactive Data Services API."
   ]
  },
  {
   "cell_type": "code",
   "execution_count": null,
   "id": "8874a1f0",
   "metadata": {},
   "outputs": [],
   "source": [
    "conn = ee.connection.ApiConnection(\n",
    "    client_id=CLIENT_ID,\n",
    "    client_secret=CLIENT_SECRET\n",
    ")\n",
    "\n",
    "api = ee.EveractiveApi(api_connection=conn)"
   ]
  },
  {
   "cell_type": "markdown",
   "id": "cec969ba",
   "metadata": {
    "tags": []
   },
   "source": [
    "## Pull Eversensors Associated with Your Account"
   ]
  },
  {
   "cell_type": "markdown",
   "id": "e59aa058",
   "metadata": {},
   "source": [
    "To get all of the Eversensors associated with your account, use the `get_all_eversensors()` call. All methods that return API data accept an `output_format` argument that specifies `json` (the default) or `pandas`."
   ]
  },
  {
   "cell_type": "code",
   "execution_count": null,
   "id": "e3dcfe70",
   "metadata": {},
   "outputs": [],
   "source": [
    "eversensors = api.get_all_eversensors()\n",
    "print(f\"Fetched {len(eversensors)} eversensors.\")"
   ]
  },
  {
   "cell_type": "code",
   "execution_count": null,
   "id": "b94be6fc",
   "metadata": {},
   "outputs": [],
   "source": [
    "eversensors[0]"
   ]
  },
  {
   "cell_type": "markdown",
   "id": "030861b4",
   "metadata": {},
   "source": [
    "## Pull Readings for a Single Eversensor"
   ]
  },
  {
   "cell_type": "code",
   "execution_count": null,
   "id": "f8baf308",
   "metadata": {},
   "outputs": [],
   "source": [
    "sensor_mac_address = eversensors[0][\"macAddress\"]\n",
    "sensor_mac_address"
   ]
  },
  {
   "cell_type": "markdown",
   "id": "eb8e4d43",
   "metadata": {},
   "source": [
    "### Examine Returned Eversensor Reading Schema"
   ]
  },
  {
   "cell_type": "code",
   "execution_count": null,
   "id": "c6367e9b",
   "metadata": {},
   "outputs": [],
   "source": [
    "last_reading = api.get_eversensor_last_reading(sensor_mac_address)\n",
    "last_reading"
   ]
  },
  {
   "cell_type": "markdown",
   "id": "a3d3127d",
   "metadata": {},
   "source": [
    "### Pull Last 24 Hours of Reported Readings for Eversensor"
   ]
  },
  {
   "cell_type": "code",
   "execution_count": null,
   "id": "ca52531d",
   "metadata": {},
   "outputs": [],
   "source": [
    "start_time = last_reading[\"timestamp\"] - 24*60*60\n",
    "end_time = last_reading[\"timestamp\"]\n",
    "\n",
    "df = api.get_eversensor_readings(\n",
    "    sensor_mac_address,\n",
    "    start_time=start_time,\n",
    "    end_time=end_time,\n",
    "    output_format=\"pandas\"\n",
    ")"
   ]
  },
  {
   "cell_type": "code",
   "execution_count": null,
   "id": "819e8ea2",
   "metadata": {},
   "outputs": [],
   "source": [
    "print(df.shape)\n",
    "df.head()"
   ]
  },
  {
   "cell_type": "markdown",
   "id": "e08b0ef6",
   "metadata": {},
   "source": [
    "### Identify Eversensor Movement Events"
   ]
  },
  {
   "cell_type": "markdown",
   "id": "240dbe14",
   "metadata": {},
   "source": [
    "If there are detected movement events in your retrieved eversensor data, you will see a `movementMeasurement_movement` column in the results DataFrame. We'll pull out any movement events present in the sensor readings."
   ]
  },
  {
   "cell_type": "code",
   "execution_count": null,
   "id": "1f4aebfd",
   "metadata": {},
   "outputs": [],
   "source": [
    "movement_events = []\n",
    "\n",
    "if \"movementMeasurement_movement\" in df.columns:\n",
    "    movement_detected = df[\"movementMeasurement_movement\"].fillna(False)\n",
    "\n",
    "    for _, row in df[movement_detected].iterrows():\n",
    "        movement_events.append({\n",
    "            \"macAddress\": row[\"macAddress\"],\n",
    "            \"timestamp\" : row[\"timestamp\"],\n",
    "            \"readingDate\" : row[\"readingDate\"],\n",
    "        })\n",
    "\n",
    "df_movements = pd.DataFrame(movement_events)"
   ]
  },
  {
   "cell_type": "code",
   "execution_count": null,
   "id": "dd8acce1",
   "metadata": {},
   "outputs": [],
   "source": [
    "df_movements.head()"
   ]
  },
  {
   "cell_type": "markdown",
   "id": "d6a5ce34",
   "metadata": {},
   "source": [
    "## Visualize Eversensor Readings"
   ]
  },
  {
   "cell_type": "code",
   "execution_count": null,
   "id": "7deb667e",
   "metadata": {},
   "outputs": [],
   "source": [
    "CHART_HEIGHT = 300\n",
    "CHART_WIDTH = 700"
   ]
  },
  {
   "cell_type": "code",
   "execution_count": null,
   "id": "f408ef7c",
   "metadata": {},
   "outputs": [],
   "source": [
    "pressure = alt.Chart(df).mark_circle().encode(\n",
    "    alt.X(\"readingDate:T\"),\n",
    "    alt.Y(\"pressureMeasurement:Q\")\n",
    ")\n",
    "\n",
    "movements = alt.Chart(df_movements).mark_rule().encode(\n",
    "    alt.X(\"readingDate:T\")\n",
    ")\n",
    "\n",
    "alt.layer(pressure, movements).properties(height=CHART_HEIGHT, width=CHART_WIDTH)"
   ]
  },
  {
   "cell_type": "code",
   "execution_count": null,
   "id": "612b65be",
   "metadata": {},
   "outputs": [],
   "source": [
    "rssi = alt.Chart(df).mark_circle().encode(\n",
    "    alt.X(\"readingDate:T\"),\n",
    "    alt.Y(\"rssiUplink:Q\")\n",
    ")\n",
    "\n",
    "movements = alt.Chart(df_movements).mark_rule().encode(\n",
    "    alt.X(\"readingDate:T\")\n",
    ")\n",
    "\n",
    "alt.layer(rssi, movements).properties(height=CHART_HEIGHT, width=CHART_WIDTH)"
   ]
  },
  {
   "cell_type": "markdown",
   "id": "d8126295",
   "metadata": {},
   "source": [
    "## Join the Everactive Community"
   ]
  },
  {
   "cell_type": "code",
   "execution_count": null,
   "id": "47d921af",
   "metadata": {},
   "outputs": [],
   "source": []
  }
 ],
 "metadata": {
  "kernelspec": {
   "display_name": "python-notebook-sample",
   "language": "python",
   "name": "python-notebook-sample"
  },
  "language_info": {
   "codemirror_mode": {
    "name": "ipython",
    "version": 3
   },
   "file_extension": ".py",
   "mimetype": "text/x-python",
   "name": "python",
   "nbconvert_exporter": "python",
   "pygments_lexer": "ipython3",
   "version": "3.9.14"
  }
 },
 "nbformat": 4,
 "nbformat_minor": 5
}
