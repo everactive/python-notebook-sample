{
 "cells": [
  {
   "cell_type": "markdown",
   "id": "0f146354",
   "metadata": {},
   "source": [
    "# Everactive ENV+ EvalKit Exploration Notebook"
   ]
  },
  {
   "cell_type": "markdown",
   "id": "1b6c8ec3",
   "metadata": {},
   "source": [
    "[![Open In Colab](https://colab.research.google.com/assets/colab-badge.svg)](https://colab.research.google.com/github/everactive/python-notebook-sample/blob/first-draft/notebook/Everactive_ENVplus_EvalKit_Exploration.ipynb)"
   ]
  },
  {
   "cell_type": "markdown",
   "id": "ef6ef77b",
   "metadata": {},
   "source": [
    "This notebook is designed to give you a quickstart to accessing your [Everactive Evironmental+ Evaluation Kit](https://everactive.com/product/environmental-evaluation-kit/) sensor data via the Everactive Data Services API and creating visualizations using your data."
   ]
  },
  {
   "cell_type": "markdown",
   "id": "ebfed029",
   "metadata": {},
   "source": [
    "## Before You Begin\n",
    "* This notebook only supports data from ENV+ EvalKits - Machine Vibration Evaluation Kit data is *not* currently supported.\n",
    "\n",
    "* This notebook assumes that you are familiar with programming in Python, notebook operation and execution (e.g. JupyterLab or Google Colab), and the `pandas` library.\n",
    "\n",
    "* We'll use the `altair` library for visualizations. Prior experience with `altair` is not required, but if you would like to learn more about the library and how it works, please visit [their excellent documentation](https://altair-viz.github.io/getting_started/overview.html).\n",
    "\n",
    "* This notebook pulls *your* sensor data, which will be different from the data used to develop this notebook. Though we've endeavored to craft this notebook to accommodate wide range of returned sensor readings, it is possible that your data might contain an unforseen edge case. If that's the case, and your data breaks the notebook or visualizations, please reach out by [creating a GitHub issue in the notebook repo](https://github.com/everactive/python-notebook-sample/issues)."
   ]
  },
  {
   "cell_type": "markdown",
   "id": "c3c4937f",
   "metadata": {},
   "source": [
    "## Google Colab Setup"
   ]
  },
  {
   "cell_type": "markdown",
   "id": "3aa7e948",
   "metadata": {},
   "source": [
    "If you're running this notebook in Google Colab, there's a few setup steps that we need to run first to prepare the Colab environment. (It may take a few minutes for Colab to install the necessary libraries)."
   ]
  },
  {
   "cell_type": "code",
   "execution_count": null,
   "id": "63c262af",
   "metadata": {},
   "outputs": [],
   "source": [
    "# Check if we're running locally, or in Google Colab.\n",
    "try:\n",
    "    import google.colab\n",
    "    print(\"Running in Google Colab, installing everactive_envplus library...\")\n",
    "    !pip install \"git+https://github.com/everactive/python-notebook-sample.git@first-draft\"\n",
    "    print(\"Install complete.\")\n",
    "\n",
    "except ModuleNotFoundError:\n",
    "    pass"
   ]
  },
  {
   "cell_type": "markdown",
   "id": "686c75fb",
   "metadata": {},
   "source": [
    "## Notebook Imports"
   ]
  },
  {
   "cell_type": "code",
   "execution_count": null,
   "id": "0a3846b3",
   "metadata": {},
   "outputs": [],
   "source": [
    "import datetime\n",
    "import warnings\n",
    "\n",
    "import altair as alt\n",
    "import pandas as pd\n",
    "\n",
    "import everactive_envplus as ee\n",
    "\n",
    "# Altair is currently generating FutureWarnings on .iteritems() usage.\n",
    "warnings.simplefilter(action=\"ignore\", category=FutureWarning)"
   ]
  },
  {
   "cell_type": "markdown",
   "id": "f2ca6bc7",
   "metadata": {},
   "source": [
    "The `everactive_envplus` library that we will use within this notebook provides a wrapper around the Everactive Data Services API. Its interface is designed to make pulling your Eversensor and Evergateway data easy. \n",
    "\n",
    "If you'd like to dive deeper into the Everactive Data Services API interface, please check out our [Data Services API Documentation](https://docs.api.everactive.com/reference/data-services-api-overview)."
   ]
  },
  {
   "cell_type": "markdown",
   "id": "837423c4",
   "metadata": {},
   "source": [
    "## Provide API Credentials"
   ]
  },
  {
   "cell_type": "markdown",
   "id": "c939d480",
   "metadata": {},
   "source": [
    "If you have not already provided your Everactive API credentials as `EVERACTIVE_CLIENT_ID` and `EVERACTIVE_CLIENT_SECRET` environment variables, enter your credentials below:"
   ]
  },
  {
   "cell_type": "code",
   "execution_count": null,
   "id": "cfbae1fb",
   "metadata": {},
   "outputs": [],
   "source": [
    "CLIENT_ID = \"\"\n",
    "CLIENT_SECRET = \"\""
   ]
  },
  {
   "cell_type": "markdown",
   "id": "4f645d92",
   "metadata": {},
   "source": [
    "## Establish a Connection to the API"
   ]
  },
  {
   "cell_type": "markdown",
   "id": "6d5945a9",
   "metadata": {},
   "source": [
    "First, we'll use your API credentials to connect to the Everactive Data Services API.\n",
    "\n",
    "The `EveractiveApi` object that we create provides methods to fetch Eversensor and Evergateway data from the Everactive Data Services API."
   ]
  },
  {
   "cell_type": "code",
   "execution_count": null,
   "id": "db58adde",
   "metadata": {},
   "outputs": [],
   "source": [
    "conn = ee.connection.ApiConnection(\n",
    "    client_id=CLIENT_ID,\n",
    "    client_secret=CLIENT_SECRET\n",
    ")\n",
    "\n",
    "api = ee.EveractiveApi(api_connection=conn)"
   ]
  },
  {
   "cell_type": "markdown",
   "id": "63f34911",
   "metadata": {
    "tags": []
   },
   "source": [
    "## Pull Eversensors Associated with Your Account"
   ]
  },
  {
   "cell_type": "markdown",
   "id": "b518bf1c",
   "metadata": {},
   "source": [
    "To get all of the Eversensors associated with your account, use the `get_all_eversensors()` call. All methods that return API data accept an `output_format` argument that specifies `json` (the default) or `pandas`."
   ]
  },
  {
   "cell_type": "code",
   "execution_count": null,
   "id": "f749d446",
   "metadata": {},
   "outputs": [],
   "source": [
    "eversensors = api.get_all_eversensors()\n",
    "print(f\"Fetched {len(eversensors)} eversensors.\")"
   ]
  },
  {
   "cell_type": "code",
   "execution_count": null,
   "id": "05434395",
   "metadata": {},
   "outputs": [],
   "source": [
    "eversensors[0]"
   ]
  },
  {
   "cell_type": "code",
   "execution_count": null,
   "id": "3d9d4edc",
   "metadata": {},
   "outputs": [],
   "source": [
    "df_eversensors = api.get_all_eversensors(output_format=\"pandas\")\n",
    "df_eversensors.head()"
   ]
  },
  {
   "cell_type": "markdown",
   "id": "3b573c58",
   "metadata": {},
   "source": [
    "## Pull Readings for a Single Eversensor"
   ]
  },
  {
   "cell_type": "markdown",
   "id": "a32dd700",
   "metadata": {},
   "source": [
    "Next, we'll pull readings for an individual Eversensor. The code below selects the first Eversensor returned from the prior call, but feel free to update the code to select a different Eversensor. The `sensor_mac_address` displayed indicates the Eversensor mac address that will be used to pull readings in subsequent API calls."
   ]
  },
  {
   "cell_type": "code",
   "execution_count": null,
   "id": "8c4f0ddf",
   "metadata": {},
   "outputs": [],
   "source": [
    "sensor_mac_address = eversensors[0][\"macAddress\"]\n",
    "sensor_mac_address"
   ]
  },
  {
   "cell_type": "markdown",
   "id": "53941003",
   "metadata": {},
   "source": [
    "### Examine Returned Eversensor Reading Schema"
   ]
  },
  {
   "cell_type": "markdown",
   "id": "42eaf572",
   "metadata": {},
   "source": [
    "To fetch the most recent reading for a given Eversensor, use the `get_eversensor_last_reading()` method, which takes an argument of the Eversensor mac address.\n",
    "\n",
    "The returned result contains a collection of data, including value readings from the Eversensor's environmental sensors (temperature, barometric pressure, humidity) and metadata on the operation of the Eversensor itself."
   ]
  },
  {
   "cell_type": "code",
   "execution_count": null,
   "id": "ff2ab9d2",
   "metadata": {},
   "outputs": [],
   "source": [
    "last_reading = api.get_eversensor_last_reading(sensor_mac_address)\n",
    "last_reading"
   ]
  },
  {
   "cell_type": "markdown",
   "id": "65b6150b",
   "metadata": {},
   "source": [
    "### Pull Last 24 Hours of Reported Readings for Eversensor"
   ]
  },
  {
   "cell_type": "markdown",
   "id": "47f332eb",
   "metadata": {},
   "source": [
    "The API allows you to pull up to 24 hours of readings per call. We'll pull the last 24 hours of readings for our selected Eversensor, based on that Eversensor's most recent reading timestamp.\n",
    "\n",
    "The `timestamp` field is a unix time stamp, so we can compute 24 hours ago by subtracting the total number of seconds in 24 hours."
   ]
  },
  {
   "cell_type": "code",
   "execution_count": null,
   "id": "3a19def6",
   "metadata": {},
   "outputs": [],
   "source": [
    "start_time = last_reading[\"timestamp\"] - 24*60*60 +2\n",
    "end_time = last_reading[\"timestamp\"] + 2\n",
    "\n",
    "df_readings = api.get_eversensor_readings(\n",
    "    sensor_mac_address,\n",
    "    start_time=start_time,\n",
    "    end_time=end_time,\n",
    "    output_format=\"pandas\"\n",
    ")\n",
    "\n",
    "if df_readings.empty:\n",
    "    raise Exception(\n",
    "        f\"No readings were found for Eversensor {sensor_mac_address} during requested time period \"\n",
    "        f\"({datetime.datetime.fromtimestamp(start_time)} to {datetime.datetime.fromtimestamp(end_time)}). \"\n",
    "        \"Have you succesfully set up your EvalKit Eversensors?\"\n",
    "    )"
   ]
  },
  {
   "cell_type": "code",
   "execution_count": null,
   "id": "a490e1e4",
   "metadata": {},
   "outputs": [],
   "source": [
    "print(df_readings.shape)\n",
    "df_readings.head()"
   ]
  },
  {
   "cell_type": "markdown",
   "id": "63f5c4e6",
   "metadata": {},
   "source": [
    "### Identify Eversensor Movement Events"
   ]
  },
  {
   "cell_type": "markdown",
   "id": "112b9211",
   "metadata": {},
   "source": [
    "If there are detected movement events in your retrieved Eversensor data, you will see a `movementMeasurement_movement` column in the results DataFrame. Below, we'll pull out any movement events present in the Eversensor readings."
   ]
  },
  {
   "cell_type": "code",
   "execution_count": null,
   "id": "37b92018",
   "metadata": {},
   "outputs": [],
   "source": [
    "movement_events = []\n",
    "\n",
    "if \"movementMeasurement_movement\" in df_readings.columns:\n",
    "    movement_detected = df_readings[\"movementMeasurement_movement\"].fillna(False)\n",
    "\n",
    "    for _, row in df_readings[movement_detected].iterrows():\n",
    "        movement_events.append({\n",
    "            \"macAddress\": row[\"macAddress\"],\n",
    "            \"timestamp\" : row[\"timestamp\"],\n",
    "            \"readingDate\" : row[\"readingDate\"],\n",
    "        })\n",
    "\n",
    "df_movements = pd.DataFrame(movement_events)"
   ]
  },
  {
   "cell_type": "code",
   "execution_count": null,
   "id": "6852f92f",
   "metadata": {},
   "outputs": [],
   "source": [
    "df_movements.head()"
   ]
  },
  {
   "cell_type": "markdown",
   "id": "56e879bd",
   "metadata": {},
   "source": [
    "## Visualize Eversensor Readings Data"
   ]
  },
  {
   "cell_type": "markdown",
   "id": "b3ddc8b1",
   "metadata": {},
   "source": [
    "Armed with our Eversensor readings, we can now visualize data from the readings. We'll first instantiate the Everactive data visualization color palette for use in our charts, and define some useful constants."
   ]
  },
  {
   "cell_type": "code",
   "execution_count": null,
   "id": "886b0049",
   "metadata": {},
   "outputs": [],
   "source": [
    "color = ee.color.ColorPalette()\n",
    "\n",
    "CHART_HEIGHT = 300\n",
    "CHART_WIDTH = 700\n",
    "\n",
    "FULL_DATETIME_FORMAT = \"%Y-%m-%d %H:%M:%S\"\n",
    "\n",
    "SENSOR_SHORT_NAME = f\"{sensor_mac_address[-5:]}\""
   ]
  },
  {
   "cell_type": "markdown",
   "id": "00a8912d",
   "metadata": {},
   "source": [
    "For each chart, we'll prep the data with `pandas` then create the visualization with `altair`.\n",
    "\n",
    "Altair charts that use `.interactive(bind_y=False)` and `.interactive()` are able to zoom - use the mouse scroll to zoom in and out. Double clicking on the chart will reset it to its original coordinates."
   ]
  },
  {
   "cell_type": "markdown",
   "id": "31445b78",
   "metadata": {},
   "source": [
    "Since we are going to overlay movement events on our environmental and Eversensor data charts, we'll create the `movements` Altair chart for reuse and layering in the subsequent charts. "
   ]
  },
  {
   "cell_type": "code",
   "execution_count": null,
   "id": "f842f43f",
   "metadata": {},
   "outputs": [],
   "source": [
    "df_movements[\"legend_label\"] = \"Movement Event\"\n",
    "\n",
    "# Create movement chart.\n",
    "movements_chart = (\n",
    "    alt.Chart(df_movements).mark_rule().encode(\n",
    "        alt.X(\"readingDate:T\"),\n",
    "        alt.Color(\n",
    "            \"legend_label\",\n",
    "            legend=alt.Legend(title=None),\n",
    "            scale=alt.Scale(domain=[\"Movement Event\"], range=[color.violet()])\n",
    "        ),\n",
    "        tooltip=[alt.Tooltip(\"readingDate:T\", title=\"Movement Event\", format=FULL_DATETIME_FORMAT)]\n",
    "    )\n",
    ")\n",
    "\n",
    "if df_movements.empty:\n",
    "    movements = []\n",
    "else:\n",
    "    movements = [movements_chart]"
   ]
  },
  {
   "cell_type": "markdown",
   "id": "516158c3",
   "metadata": {},
   "source": [
    "### Environmental Data"
   ]
  },
  {
   "cell_type": "markdown",
   "id": "f36c3e5e",
   "metadata": {},
   "source": [
    "We'll first visualize the temperature, humidity, and pressure data from the last 24 hours."
   ]
  },
  {
   "cell_type": "markdown",
   "id": "d72e0ff6",
   "metadata": {},
   "source": [
    "#### Temperature"
   ]
  },
  {
   "cell_type": "code",
   "execution_count": null,
   "id": "d34f0f4a",
   "metadata": {},
   "outputs": [],
   "source": [
    "temperature_readings = []\n",
    "\n",
    "# Extract and prep the temperature data.\n",
    "for _, row in df_readings[[\"readingDate\", \"temperatureMeasurements\"]].iterrows():\n",
    "    for temp_reading in row[\"temperatureMeasurements\"]:\n",
    "        # The BME280 sensor used by the ENV+ Eversensor reports two temperatures, off-chip and\n",
    "        # on-chip. We use the off-chip temperature to approximate ambient temperature.\n",
    "        if temp_reading[\"sensorIndex\"] == 0:\n",
    "            temperature_readings.append(\n",
    "                {\n",
    "                    \"readingDate\" : row[\"readingDate\"],\n",
    "                    # Temperature is reported in Kelvin; we'll convert to Celsius for visualization.\n",
    "                    \"temperature\" : temp_reading[\"value\"] - 273.15,\n",
    "                }\n",
    "            )\n",
    "\n",
    "df_plot = pd.DataFrame(temperature_readings)\n",
    "df_plot[\"legend_label\"] = \"Temperature\"\n",
    "df_plot[\"display_temp_c\"] = df_plot[\"temperature\"].apply(lambda x: f\"{round(x, 1)} ºC\")\n",
    "df_plot[\"display_temp_f\"] = df_plot[\"temperature\"].apply(lambda x: f\"{round(x*(9/5)+32, 1)} ºF\")\n",
    "\n",
    "# Create the temperature chart.\n",
    "temperatures = alt.Chart(df_plot).mark_circle().encode(\n",
    "    alt.X(\"readingDate:T\", axis=alt.Axis(title=None)),\n",
    "    alt.Y(\"temperature:Q\", axis=alt.Axis(title=\"Temperature (C)\")),\n",
    "    alt.Color(\n",
    "        \"legend_label\",\n",
    "        legend=alt.Legend(title=\"Legend\"),\n",
    "        scale=alt.Scale(domain=[\"Temperature\"], range=[color.sky()])\n",
    "    ),\n",
    "    tooltip=[\n",
    "        alt.Tooltip(\"readingDate:T\", title=\"Reading\", format=FULL_DATETIME_FORMAT),\n",
    "        alt.Tooltip(\"display_temp_c\", title=\"Celsius\"),\n",
    "        alt.Tooltip(\"display_temp_f\", title=\"Fahrenheit\"),\n",
    "    ]\n",
    ")\n",
    "\n",
    "# Render the layered chart.\n",
    "(\n",
    "    alt.layer(temperatures, *movements)\n",
    "        .resolve_scale(color=\"independent\")\n",
    "        .configure_title(anchor=\"start\")\n",
    "        .properties(\n",
    "            title=f\"[{SENSOR_SHORT_NAME}] Temperature (Celsius)\",\n",
    "            height=CHART_HEIGHT, width=CHART_WIDTH\n",
    "        ).interactive(bind_y=False)\n",
    ")"
   ]
  },
  {
   "cell_type": "markdown",
   "id": "5895ce3f",
   "metadata": {},
   "source": [
    "#### Humidity"
   ]
  },
  {
   "cell_type": "code",
   "execution_count": null,
   "id": "c7ca0e72",
   "metadata": {},
   "outputs": [],
   "source": [
    "humidity_readings = []\n",
    "\n",
    "# Extract and prep the humidity data.\n",
    "for _, row in df_readings[[\"readingDate\", \"humidityMeasurements\"]].iterrows():\n",
    "    for humidity_reading in row[\"humidityMeasurements\"]:\n",
    "        if humidity_reading[\"sensorIndex\"] == 0:\n",
    "            humidity_readings.append(\n",
    "                {\n",
    "                    \"readingDate\" : row[\"readingDate\"],\n",
    "                    \"humidity\" : humidity_reading[\"value\"],\n",
    "                }\n",
    "            )\n",
    "\n",
    "df_plot = pd.DataFrame(humidity_readings)\n",
    "df_plot[\"legend_label\"] = \"Relative Humidity\"\n",
    "df_plot[\"display_humidity\"] = df_plot[\"humidity\"].apply(lambda x: f\"{round(x,1)}%\")\n",
    "\n",
    "# Create the humidity chart.\n",
    "humidity = alt.Chart(df_plot).mark_circle().encode(\n",
    "    alt.X(\"readingDate:T\", axis=alt.Axis(title=None)),\n",
    "    alt.Y(\"humidity:Q\", axis=alt.Axis(title=\"Relative Humidity (%)\")),\n",
    "    alt.Color(\n",
    "        \"legend_label\",\n",
    "        legend=alt.Legend(title=\"Legend\"),\n",
    "        scale=alt.Scale(domain=[\"Relative Humidity\"], range=[color.sky()])\n",
    "    ),\n",
    "    tooltip=[\n",
    "        alt.Tooltip(\"readingDate:T\", title=\"Reading\", format=FULL_DATETIME_FORMAT),\n",
    "        alt.Tooltip(\"display_humidity\", title=\"Relative Humidity\"),\n",
    "    ]\n",
    ")\n",
    "\n",
    "# Render the layered chart.\n",
    "(\n",
    "    alt.layer(humidity, *movements)\n",
    "        .resolve_scale(color=\"independent\")\n",
    "        .configure_title(anchor=\"start\")\n",
    "        .properties(\n",
    "            title=f\"[{SENSOR_SHORT_NAME}] Relative Humidity\",\n",
    "            height=CHART_HEIGHT, width=CHART_WIDTH\n",
    "        ).interactive(bind_y=False)\n",
    ")"
   ]
  },
  {
   "cell_type": "markdown",
   "id": "23b1eb39",
   "metadata": {},
   "source": [
    "#### Barometric Pressure"
   ]
  },
  {
   "cell_type": "code",
   "execution_count": null,
   "id": "abe20e22",
   "metadata": {},
   "outputs": [],
   "source": [
    "# Prep the pressure data.\n",
    "df_plot = df_readings[[\"readingDate\", \"pressureMeasurement\"]].copy().reset_index(drop=True)\n",
    "df_plot[\"legend_label\"] = \"Barometric Pressure\"\n",
    "df_plot[\"display_pressure\"] = df_plot[\"pressureMeasurement\"].apply(lambda x: f\"{round(x)} hPa\")\n",
    "\n",
    "# Create the pressure chart.\n",
    "pressure = alt.Chart(df_plot).mark_circle().encode(\n",
    "    alt.X(\"readingDate:T\", axis=alt.Axis(title=None)),\n",
    "    alt.Y(\"pressureMeasurement:Q\", axis=alt.Axis(title=\"Barometric Pressure (hPa)\")),\n",
    "    alt.Color(\n",
    "        \"legend_label\",\n",
    "        legend=alt.Legend(title=\"Legend\"),\n",
    "        scale=alt.Scale(domain=[\"Barometric Pressure\"], range=[color.sky()])\n",
    "    ),\n",
    "    tooltip=[\n",
    "        alt.Tooltip(\"readingDate:T\", title=\"Reading\", format=FULL_DATETIME_FORMAT),\n",
    "        alt.Tooltip(\"display_pressure\", title=\"Barometric Pressure\"),\n",
    "    ]\n",
    ")\n",
    "\n",
    "# Render the layered chart.\n",
    "(\n",
    "    alt.layer(pressure, *movements)\n",
    "        .resolve_scale(color=\"independent\")\n",
    "        .configure_title(anchor=\"start\")\n",
    "        .properties(\n",
    "            title=f\"[{SENSOR_SHORT_NAME}] Barometric Pressure\",\n",
    "            height=CHART_HEIGHT, width=CHART_WIDTH\n",
    "        ).interactive(bind_y=False)\n",
    ")"
   ]
  },
  {
   "cell_type": "markdown",
   "id": "3c7b2aa1",
   "metadata": {},
   "source": [
    "### Eversensor Data"
   ]
  },
  {
   "cell_type": "markdown",
   "id": "d6c05762",
   "metadata": {},
   "source": [
    "Visualizing metadata from Eversensor operation can help to give you insight into how your sensor is working. Below, we'll plot RSSI uplink and energy storage data."
   ]
  },
  {
   "cell_type": "markdown",
   "id": "e19b9d44",
   "metadata": {},
   "source": [
    "#### RSSI Uplink\n",
    "\n",
    "RSSI stands for \"Received Signal Strength Indicator.\" It is a measurement of how well your Eversensor can hear a signal from the Evergateway. The closer to zero the RSSI Uplink value is, the better the signal."
   ]
  },
  {
   "cell_type": "code",
   "execution_count": null,
   "id": "e0850ba9",
   "metadata": {},
   "outputs": [],
   "source": [
    "# Prep the RSSI data.\n",
    "df_plot = df_readings[[\"readingDate\", \"rssiUplink\"]].copy().reset_index(drop=True)\n",
    "df_plot[\"legend_label\"] = \"RSSI Uplink\"\n",
    "df_plot[\"display_rssi\"] = df_plot[\"rssiUplink\"].apply(lambda x: f\"{round(x)}\")\n",
    "\n",
    "# Create the RSSI chart.\n",
    "rssi = alt.Chart(df_plot).mark_circle().encode(\n",
    "    alt.X(\"readingDate:T\", axis=alt.Axis(title=None)),\n",
    "    alt.Y(\"rssiUplink:Q\", axis=alt.Axis(title=\"RSSI Uplink\")),    \n",
    "    alt.Color(\n",
    "        \"legend_label\",\n",
    "        legend=alt.Legend(title=\"Legend\"),\n",
    "        scale=alt.Scale(domain=[\"RSSI Uplink\"], range=[color.sky()])\n",
    "    ),\n",
    "    tooltip=[\n",
    "        alt.Tooltip(\"readingDate:T\", title=\"Reading\", format=FULL_DATETIME_FORMAT),\n",
    "        alt.Tooltip(\"display_rssi\", title=\"RSSI Uplink\"),\n",
    "    ]\n",
    ")\n",
    "\n",
    "# Render the layered chart.\n",
    "(\n",
    "    alt.layer(rssi, *movements)\n",
    "        .resolve_scale(color=\"independent\")\n",
    "        .configure_title(anchor=\"start\")\n",
    "        .properties(\n",
    "            title=f\"[{SENSOR_SHORT_NAME}] RSSI Uplink\",\n",
    "            height=CHART_HEIGHT, width=CHART_WIDTH\n",
    "        ).interactive(bind_y=False)\n",
    ")"
   ]
  },
  {
   "cell_type": "markdown",
   "id": "cbeea966",
   "metadata": {},
   "source": [
    "#### Stored Energy"
   ]
  },
  {
   "cell_type": "markdown",
   "id": "f4a68819",
   "metadata": {},
   "source": [
    "To plot the stored energy in our Eversensor, we first need to calculate the energy in the Eversensor's capacitor store. We can do this using the voltage across the Eversensor capacitors, `scap` and `vcap`, along with their capacitance.\n",
    "\n",
    "ENV+ Eversensors report a value, *load count*, that is proportional to the energy harvested by the sensor. We'll include this value on the chart, so that we can compare the load count trend to the trend in energy storage on the Eversensor."
   ]
  },
  {
   "cell_type": "code",
   "execution_count": null,
   "id": "9ba1b53d",
   "metadata": {},
   "outputs": [],
   "source": [
    "# Calculate stored energy based on scap and vcap data.\n",
    "def calculated_eversensor_stored_energy(vcap: float, scap: float) -> float:\n",
    "    \"\"\"Calculate and return the Eversensor stored energy in joules.\"\"\"\n",
    "    \n",
    "    envplus_operating_capacitance = 2.5 * 1e-3\n",
    "    envplus_storage_capacitance = 800 * 1e-3\n",
    "    \n",
    "    return (0.5 * envplus_operating_capacitance * (vcap**2)) + (\n",
    "        0.5 * envplus_storage_capacitance * (scap**2)\n",
    "    )\n",
    "\n",
    "df_plot = df_readings[[\"readingDate\", \"vcap\", \"scap\"]].copy().reset_index(drop=True)\n",
    "df_plot[\"stored_energy\"] = df_plot.apply(\n",
    "    lambda row: calculated_eversensor_stored_energy(row['vcap'], row['scap']), axis=1)\n",
    "\n",
    "df_plot[\"legend_label\"] = \"Stored Energy\"\n",
    "df_plot[\"display_stored_energy\"] = df_plot[\"stored_energy\"].apply(\n",
    "    lambda x: f\"Stored Energy: {round(x,2)} J\")\n",
    "\n",
    "# Create a selection that chooses the nearest point & selects based on x value (readingDate).\n",
    "nearest = alt.selection(\n",
    "    type=\"single\",\n",
    "    nearest=True,\n",
    "    on=\"mouseover\",\n",
    "    fields=[\"readingDate\"],\n",
    "    empty=\"none\"\n",
    ")\n",
    "\n",
    "# Create transparent selectors across the chart - this tells us the x value on mouseover.\n",
    "selectors = alt.Chart(df_plot).mark_point().encode(\n",
    "    x=\"readingDate:T\", opacity=alt.value(0)\n",
    ").add_selection(nearest)\n",
    "\n",
    "\n",
    "# Draw a rule at the location of the selection\n",
    "rule = alt.Chart(df_plot).mark_rule(color=color.charcoal()).encode(\n",
    "    x=\"readingDate:T\",\n",
    ").transform_filter(nearest)\n",
    "\n",
    "# Create common params for text data labels.\n",
    "data_label_params = {\n",
    "    \"align\" : \"left\", \"dx\" : 5, \"color\" : color.charcoal(), \"fontWeight\" : 600\n",
    "}\n",
    "\n",
    "# Create the stored energy chart.\n",
    "stored_energy_base = alt.Chart(df_plot).encode(\n",
    "    alt.X(\"readingDate:T\", axis=alt.Axis(title=None)),\n",
    "    alt.Y(\"stored_energy:Q\", axis=alt.Axis(title=\"Stored Energy (J)\")),    \n",
    ")\n",
    "\n",
    "stored_energy_mark = stored_energy_base.mark_line(point=True).encode(\n",
    "    alt.Color(\n",
    "        \"legend_label\",\n",
    "        legend=alt.Legend(title=\"Legend\"),\n",
    "        scale=alt.Scale(domain=[\"Stored Energy\"], range=[color.sky()])\n",
    "    )\n",
    ")\n",
    "\n",
    "stored_energy_area = stored_energy_base.mark_area(opacity=0.1).encode(\n",
    "    alt.Y(\"stored_energy:Q\", axis=None),    \n",
    "    alt.Color(\n",
    "        \"legend_label\",\n",
    "        legend=None,\n",
    "        scale=alt.Scale(domain=[\"Stored Energy\"], range=[color.sky()])\n",
    "    )\n",
    ")\n",
    "\n",
    "# Create mouseover data label for stored energy.\n",
    "stored_energy_data_label = stored_energy_base.mark_text(**data_label_params, dy=-10).encode(\n",
    "    alt.Y(axis=None),\n",
    "    text=alt.condition(nearest, \"display_stored_energy\", alt.value(' '))\n",
    ")\n",
    "\n",
    "# Extract and prep the load count data.\n",
    "load_counts = []\n",
    "\n",
    "for _, row in df_readings[[\"readingDate\", \"loadCounts\"]].iterrows():\n",
    "        load_counts.append(\n",
    "            {\n",
    "                \"readingDate\" : row[\"readingDate\"],\n",
    "                \"load_count\" : row[\"loadCounts\"][0][\"count\"]\n",
    "            }\n",
    "        )\n",
    "\n",
    "df_load_counts = pd.DataFrame(load_counts)\n",
    "df_load_counts[\"legend_label\"] = \"Load Count\"\n",
    "df_load_counts[\"display_load_count\"] = df_load_counts[\"load_count\"].apply(\n",
    "    lambda x: f\"Load Count: {round(x)}\")\n",
    "\n",
    "# Create the load counts chart.\n",
    "load_count_base = alt.Chart(df_load_counts).encode(\n",
    "    alt.X(\"readingDate:T\", axis=alt.Axis(title=None)),\n",
    "    alt.Y(\"load_count:Q\", axis=alt.Axis(title=\"Load Count\")),    \n",
    ")\n",
    "\n",
    "load_count_chart = load_count_base.mark_circle().encode( \n",
    "    alt.Color(\n",
    "        \"legend_label\",\n",
    "        legend=alt.Legend(title=None),\n",
    "        scale=alt.Scale(domain=[\"Load Count\"], range=[color.midnight()])\n",
    "    )\n",
    ")\n",
    "\n",
    "# Create mouseover data label for stored energy.\n",
    "load_count_data_label = load_count_base.mark_text(\n",
    "    **data_label_params, dy=10\n",
    ").encode(\n",
    "    alt.Y(axis=None),\n",
    "    text=alt.condition(nearest, \"display_load_count\", alt.value(' '))\n",
    ")\n",
    "\n",
    "# Render the layered chart.\n",
    "(\n",
    "    alt.layer(\n",
    "        stored_energy_mark, stored_energy_area, load_count_chart, *movements,\n",
    "        selectors, rule,\n",
    "        stored_energy_data_label, load_count_data_label\n",
    "    )\n",
    "    .resolve_scale(y=\"independent\", color=\"independent\")\n",
    "    .configure_title(anchor=\"start\")\n",
    "    .properties(\n",
    "            title=f\"[{SENSOR_SHORT_NAME}] Stored Energy vs. Load Counts\",\n",
    "            height=CHART_HEIGHT, width=CHART_WIDTH\n",
    "        ).interactive(bind_y=False)\n",
    ")"
   ]
  },
  {
   "cell_type": "markdown",
   "id": "61e665c4",
   "metadata": {},
   "source": [
    "## Join the Everactive Community"
   ]
  },
  {
   "cell_type": "markdown",
   "id": "48ca461b",
   "metadata": {},
   "source": [
    "If you enjoyed accessing and exploring your ENV+ EvalKit data, we encourage you to engage further and join our Everactive Community! You can find us on the following platforms:\n",
    "<p style=\"text-align: center;\">\n",
    "<a href=\"https://www.hackster.io/everactive\"><img src=\"../docs/images/community_logos/hackster.png\" width=\"128\"/></a>\n",
    "<img src=\"../docs/images/community_logos/spacer.png\" width=\"32\"/>\n",
    "<a href=\"https://www.youtube.com/@EveractiveInc\"><img src=\"../docs/images/community_logos/youtube.png\" width=\"128\"/></a>\n",
    "<img src=\"../docs/images/community_logos/spacer.png\" width=\"32\"/>\n",
    "<a href=\"https://everactive.github.io/\"><img src=\"../docs/images/community_logos/github.png\" width=\"128\"/></a>\n",
    "<img src=\"../docs/images/community_logos/spacer.png\" width=\"32\"/>\n",
    "<a href=\"https://everactive.com/join-slack\"><img src=\"../docs/images/community_logos/slack.png\" width=\"128\"/></a>\n",
    "<img src=\"../docs/images/community_logos/spacer.png\" width=\"32\"/>\n",
    "<a href=\"https://support.everactive.com/hc/en-us\"><img src=\"../docs/images/community_logos/everactive.png\" width=\"128\"/></a></p>"
   ]
  },
  {
   "cell_type": "code",
   "execution_count": null,
   "id": "9aab7afd",
   "metadata": {},
   "outputs": [],
   "source": []
  }
 ],
 "metadata": {
  "kernelspec": {
   "display_name": "python-notebook-sample",
   "language": "python",
   "name": "python-notebook-sample"
  },
  "language_info": {
   "codemirror_mode": {
    "name": "ipython",
    "version": 3
   },
   "file_extension": ".py",
   "mimetype": "text/x-python",
   "name": "python",
   "nbconvert_exporter": "python",
   "pygments_lexer": "ipython3",
   "version": "3.9.14"
  }
 },
 "nbformat": 4,
 "nbformat_minor": 5
}
