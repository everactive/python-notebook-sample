{
 "cells": [
  {
   "cell_type": "code",
   "execution_count": null,
   "id": "e302e4c0",
   "metadata": {},
   "outputs": [],
   "source": [
    "import everactive_envplus as ee"
   ]
  },
  {
   "cell_type": "markdown",
   "id": "22e5240f",
   "metadata": {},
   "source": [
    "# Everactive ENV+ EvalKit Exploration Notebook"
   ]
  },
  {
   "cell_type": "markdown",
   "id": "0bf58897",
   "metadata": {},
   "source": [
    "This notebook is designed to give you a quickstart to accessing your [ENV+ EvalKit](https://everactive.com/product/environmental-evaluation-kit/) sensor data via the Everactive Data Services API and using that data for visualizations.\n",
    "* [API Documentation](https://docs.api.everactive.com/reference/data-services-api-overview)"
   ]
  },
  {
   "cell_type": "markdown",
   "id": "6e6354d2",
   "metadata": {},
   "source": [
    "To get started, provide your API credentials below:"
   ]
  },
  {
   "cell_type": "code",
   "execution_count": null,
   "id": "1736e2f2",
   "metadata": {},
   "outputs": [],
   "source": [
    "CLIENT_ID = \"\"\n",
    "CLIENT_SECRET = \"\""
   ]
  },
  {
   "cell_type": "markdown",
   "id": "cfdab2f3",
   "metadata": {},
   "source": [
    "The `everactive_envplus` library provides a wrapper around the Everactive Data Services API. Its interface is designed to make pulling your Eversensor and Evergateway data easy. "
   ]
  },
  {
   "cell_type": "markdown",
   "id": "f74621c6",
   "metadata": {},
   "source": [
    "## Establish a Connection to the API"
   ]
  },
  {
   "cell_type": "markdown",
   "id": "0dda3096",
   "metadata": {},
   "source": [
    "First, we'll use your API credentials to connect to the Everactive Data Services API."
   ]
  },
  {
   "cell_type": "code",
   "execution_count": null,
   "id": "31ede473",
   "metadata": {},
   "outputs": [],
   "source": [
    "conn = ee.connection.ApiConnection(\n",
    "    client_id=CLIENT_ID,\n",
    "    client_secret=CLIENT_SECRET\n",
    ")\n",
    "\n",
    "api = ee.EveractiveApi(api_connection=conn)"
   ]
  },
  {
   "cell_type": "markdown",
   "id": "71aead69",
   "metadata": {},
   "source": [
    "## Pull Eversensors Associated with Your Account"
   ]
  },
  {
   "cell_type": "markdown",
   "id": "545cc8b9",
   "metadata": {},
   "source": [
    "To get all of the Eversensors associated with your account, use the `get_all_eversensors()` call. All methods that return API data accept an `output_format` argument that specifies `json` (the default) or `pandas`."
   ]
  },
  {
   "cell_type": "code",
   "execution_count": null,
   "id": "a3452080",
   "metadata": {},
   "outputs": [],
   "source": [
    "eversensors = api.get_all_eversensors()"
   ]
  },
  {
   "cell_type": "code",
   "execution_count": null,
   "id": "74a6364e",
   "metadata": {},
   "outputs": [],
   "source": [
    "eversensors[0:2]"
   ]
  },
  {
   "cell_type": "markdown",
   "id": "9bbd47ac",
   "metadata": {},
   "source": [
    "## Pull Readings for a Single Eversensor"
   ]
  },
  {
   "cell_type": "code",
   "execution_count": null,
   "id": "4cd07301",
   "metadata": {},
   "outputs": [],
   "source": [
    "sensor_mac_address = eversensors[0][\"macAddress\"]\n",
    "sensor_mac_address"
   ]
  },
  {
   "cell_type": "code",
   "execution_count": null,
   "id": "81a8caf6",
   "metadata": {},
   "outputs": [],
   "source": [
    "last_reading = api.get_eversensor_last_reading(sensor_mac_address)\n",
    "last_reading"
   ]
  },
  {
   "cell_type": "code",
   "execution_count": null,
   "id": "cb7ca550",
   "metadata": {},
   "outputs": [],
   "source": [
    "df = api.get_eversensor_readings(\n",
    "    sensor_mac_address,\n",
    "    start_time=last_reading[\"timestamp\"] - 24*60*60,\n",
    "    end_time=last_reading[\"timestamp\"],\n",
    "    output_format=\"pandas\"\n",
    ")"
   ]
  },
  {
   "cell_type": "code",
   "execution_count": null,
   "id": "bb4f83a5",
   "metadata": {},
   "outputs": [],
   "source": [
    "print(df.shape)\n",
    "df.head()"
   ]
  },
  {
   "cell_type": "code",
   "execution_count": null,
   "id": "f6a9d905",
   "metadata": {},
   "outputs": [],
   "source": []
  },
  {
   "cell_type": "code",
   "execution_count": null,
   "id": "c1e2e9ef",
   "metadata": {},
   "outputs": [],
   "source": []
  }
 ],
 "metadata": {
  "kernelspec": {
   "display_name": "python-notebook-sample",
   "language": "python",
   "name": "python-notebook-sample"
  },
  "language_info": {
   "codemirror_mode": {
    "name": "ipython",
    "version": 3
   },
   "file_extension": ".py",
   "mimetype": "text/x-python",
   "name": "python",
   "nbconvert_exporter": "python",
   "pygments_lexer": "ipython3",
   "version": "3.9.14"
  }
 },
 "nbformat": 4,
 "nbformat_minor": 5
}
