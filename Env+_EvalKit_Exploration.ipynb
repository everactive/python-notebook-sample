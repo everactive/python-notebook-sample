{
 "cells": [
  {
   "cell_type": "markdown",
   "id": "973b6a98",
   "metadata": {},
   "source": [
    "# Everactive ENV+ EvalKit Exploration Notebook"
   ]
  },
  {
   "cell_type": "markdown",
   "id": "19fdd73d",
   "metadata": {},
   "source": [
    "This notebook is designed to give you a quickstart to accessing your [ENV+ EvalKit](https://everactive.com/product/environmental-evaluation-kit/) sensor data via the Everactive Data Services API and using that data for visualizations.\n",
    "* [API Documentation](https://docs.api.everactive.com/reference/data-services-api-overview)"
   ]
  },
  {
   "cell_type": "markdown",
   "id": "25a78265",
   "metadata": {},
   "source": [
    "If you're running this notebook in Colab, there's a few setup steps that we need to run to prepare the environment."
   ]
  },
  {
   "cell_type": "code",
   "execution_count": null,
   "id": "2c00c52f",
   "metadata": {},
   "outputs": [],
   "source": [
    "# Check if we're running locally, or in Google Colab.\n",
    "try:\n",
    "    import google.colab\n",
    "    print(\"Running in Google Colab, installing everactive_envplus library...\")\n",
    "    !pip install \"git+https://github.com/everactive/python-notebook-sample.git@first-draft\"\n",
    "    print(\"Install complete.\")\n",
    "\n",
    "except ModuleNotFoundError:\n",
    "    pass"
   ]
  },
  {
   "cell_type": "code",
   "execution_count": null,
   "id": "2e8350b5",
   "metadata": {},
   "outputs": [],
   "source": [
    "import everactive_envplus as ee"
   ]
  },
  {
   "cell_type": "markdown",
   "id": "232ca1d5",
   "metadata": {},
   "source": [
    "## Provide API Credentials"
   ]
  },
  {
   "cell_type": "markdown",
   "id": "14894014",
   "metadata": {},
   "source": [
    "To get started, provide your API credentials below:"
   ]
  },
  {
   "cell_type": "code",
   "execution_count": null,
   "id": "516129f3",
   "metadata": {},
   "outputs": [],
   "source": [
    "CLIENT_ID = \"\"\n",
    "CLIENT_SECRET = \"\""
   ]
  },
  {
   "cell_type": "markdown",
   "id": "3585e02a",
   "metadata": {},
   "source": [
    "The `everactive_envplus` library provides a wrapper around the Everactive Data Services API. Its interface is designed to make pulling your Eversensor and Evergateway data easy. "
   ]
  },
  {
   "cell_type": "markdown",
   "id": "bf786fbf",
   "metadata": {},
   "source": [
    "## Establish a Connection to the API"
   ]
  },
  {
   "cell_type": "markdown",
   "id": "eb62e222",
   "metadata": {},
   "source": [
    "First, we'll use your API credentials to connect to the Everactive Data Services API."
   ]
  },
  {
   "cell_type": "code",
   "execution_count": null,
   "id": "93cba3b2",
   "metadata": {},
   "outputs": [],
   "source": [
    "conn = ee.connection.ApiConnection(\n",
    "    client_id=CLIENT_ID,\n",
    "    client_secret=CLIENT_SECRET\n",
    ")\n",
    "\n",
    "api = ee.EveractiveApi(api_connection=conn)"
   ]
  },
  {
   "cell_type": "markdown",
   "id": "48946c37",
   "metadata": {},
   "source": [
    "## Pull Eversensors Associated with Your Account"
   ]
  },
  {
   "cell_type": "markdown",
   "id": "636da68b",
   "metadata": {},
   "source": [
    "To get all of the Eversensors associated with your account, use the `get_all_eversensors()` call. All methods that return API data accept an `output_format` argument that specifies `json` (the default) or `pandas`."
   ]
  },
  {
   "cell_type": "code",
   "execution_count": null,
   "id": "8a0badfc",
   "metadata": {},
   "outputs": [],
   "source": [
    "eversensors = api.get_all_eversensors()"
   ]
  },
  {
   "cell_type": "code",
   "execution_count": null,
   "id": "99d62311",
   "metadata": {},
   "outputs": [],
   "source": [
    "eversensors[0:2]"
   ]
  },
  {
   "cell_type": "markdown",
   "id": "1f8e0e72",
   "metadata": {},
   "source": [
    "## Pull Readings for a Single Eversensor"
   ]
  },
  {
   "cell_type": "code",
   "execution_count": null,
   "id": "1ec801b9",
   "metadata": {},
   "outputs": [],
   "source": [
    "sensor_mac_address = eversensors[0][\"macAddress\"]\n",
    "sensor_mac_address"
   ]
  },
  {
   "cell_type": "code",
   "execution_count": null,
   "id": "42c63f76",
   "metadata": {},
   "outputs": [],
   "source": [
    "last_reading = api.get_eversensor_last_reading(sensor_mac_address)\n",
    "last_reading"
   ]
  },
  {
   "cell_type": "code",
   "execution_count": null,
   "id": "08508cb9",
   "metadata": {},
   "outputs": [],
   "source": [
    "df = api.get_eversensor_readings(\n",
    "    sensor_mac_address,\n",
    "    start_time=last_reading[\"timestamp\"] - 24*60*60,\n",
    "    end_time=last_reading[\"timestamp\"],\n",
    "    output_format=\"pandas\"\n",
    ")"
   ]
  },
  {
   "cell_type": "code",
   "execution_count": null,
   "id": "a71f0aa2",
   "metadata": {},
   "outputs": [],
   "source": [
    "print(df.shape)\n",
    "df.head()"
   ]
  },
  {
   "cell_type": "code",
   "execution_count": null,
   "id": "d30cf3e1",
   "metadata": {},
   "outputs": [],
   "source": []
  },
  {
   "cell_type": "code",
   "execution_count": null,
   "id": "20d8cabc",
   "metadata": {},
   "outputs": [],
   "source": []
  }
 ],
 "metadata": {
  "kernelspec": {
   "display_name": "python-notebook-sample",
   "language": "python",
   "name": "python-notebook-sample"
  },
  "language_info": {
   "codemirror_mode": {
    "name": "ipython",
    "version": 3
   },
   "file_extension": ".py",
   "mimetype": "text/x-python",
   "name": "python",
   "nbconvert_exporter": "python",
   "pygments_lexer": "ipython3",
   "version": "3.9.14"
  }
 },
 "nbformat": 4,
 "nbformat_minor": 5
}
