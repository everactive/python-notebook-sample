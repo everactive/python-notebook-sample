{
 "cells": [
  {
   "cell_type": "markdown",
   "id": "e6933be0",
   "metadata": {},
   "source": [
    "# Everactive ENV+ EvalKit Exploration Notebook"
   ]
  },
  {
   "cell_type": "markdown",
   "id": "9293eace",
   "metadata": {},
   "source": [
    "[![Open In Colab](https://colab.research.google.com/assets/colab-badge.svg)](https://colab.research.google.com/github/everactive/python-notebook-sample/blob/first-draft/Env%2B_EvalKit_Exploration.ipynb)"
   ]
  },
  {
   "cell_type": "markdown",
   "id": "1db2dd94",
   "metadata": {},
   "source": [
    "This notebook is designed to give you a quickstart to accessing your [ENV+ EvalKit](https://everactive.com/product/environmental-evaluation-kit/) sensor data via the Everactive Data Services API and creating visualizations using your data."
   ]
  },
  {
   "cell_type": "markdown",
   "id": "74519f20",
   "metadata": {},
   "source": [
    "## Before You Begin\n",
    "* This notebook assumes that you are familiar with programming in Python, notebook operation and execution (e.g. JupyterLab or Google Colab), and the `pandas` library.\n",
    "\n",
    "* We'll use the `altair` library for visualizations. Prior experience with `altair` is not required, but if you would like to learn more about the library and how it works, please visit [their excellent documentation](https://altair-viz.github.io/getting_started/overview.html).\n",
    "\n",
    "* This notebook pulls *your* sensor data, which will be different from the data used to develop this notebook. Though we've endeavored to craft this notebook to accommodate wide range of returned sensor readings, it is possible that your data might contain an unforseen edge case. If that's the case, and your data breaks the notebook or visualizations, please create a GitHub issue."
   ]
  },
  {
   "cell_type": "markdown",
   "id": "0d8af849",
   "metadata": {},
   "source": [
    "If you're running this notebook in Google Colab, there's a few setup steps that we need to run first to prepare the Colab environment."
   ]
  },
  {
   "cell_type": "code",
   "execution_count": null,
   "id": "fb53c40d",
   "metadata": {},
   "outputs": [],
   "source": [
    "# Check if we're running locally, or in Google Colab.\n",
    "try:\n",
    "    import google.colab\n",
    "    print(\"Running in Google Colab, installing everactive_envplus library...\")\n",
    "    !pip install \"git+https://github.com/everactive/python-notebook-sample.git@first-draft\"\n",
    "    print(\"Install complete.\")\n",
    "\n",
    "except ModuleNotFoundError:\n",
    "    pass"
   ]
  },
  {
   "cell_type": "markdown",
   "id": "5d970542",
   "metadata": {},
   "source": [
    "## Notebook Imports"
   ]
  },
  {
   "cell_type": "code",
   "execution_count": 2,
   "id": "7254fc4c",
   "metadata": {},
   "outputs": [],
   "source": [
    "import altair as alt\n",
    "import pandas as pd\n",
    "\n",
    "import everactive_envplus as ee"
   ]
  },
  {
   "cell_type": "markdown",
   "id": "c3825310",
   "metadata": {},
   "source": [
    "The `everactive_envplus` library that we will use within this notebook provides a wrapper around the Everactive Data Services API. Its interface is designed to make pulling your Eversensor and Evergateway data easy. \n",
    "\n",
    "If you'd like to dive deeper into the Everactive Data Services API interface, please check out our [API Documentation](https://docs.api.everactive.com/reference/data-services-api-overview)."
   ]
  },
  {
   "cell_type": "markdown",
   "id": "d8e93728",
   "metadata": {},
   "source": [
    "## Provide API Credentials"
   ]
  },
  {
   "cell_type": "markdown",
   "id": "8cd071b2",
   "metadata": {},
   "source": [
    "<mark>*To get started, provide your API credentials below:*</mark>"
   ]
  },
  {
   "cell_type": "code",
   "execution_count": 3,
   "id": "61e0cdda",
   "metadata": {},
   "outputs": [],
   "source": [
    "CLIENT_ID = \"\"\n",
    "CLIENT_SECRET = \"\""
   ]
  },
  {
   "cell_type": "markdown",
   "id": "e86818df",
   "metadata": {},
   "source": [
    "## Establish a Connection to the API"
   ]
  },
  {
   "cell_type": "markdown",
   "id": "89ce1a85",
   "metadata": {},
   "source": [
    "First, we'll use your API credentials to connect to the Everactive Data Services API."
   ]
  },
  {
   "cell_type": "code",
   "execution_count": 4,
   "id": "fff39045",
   "metadata": {},
   "outputs": [
    {
     "name": "stderr",
     "output_type": "stream",
     "text": [
      "[DEBUG] 2023-01-23 16:34:24 (884) api_connection: Fetching oauth token from: https://api.data.everactive.com/auth/token\n",
      "[INFO] 2023-01-23 16:34:24 (884) api_connection: Authenticated to the Everactive API\n"
     ]
    }
   ],
   "source": [
    "conn = ee.connection.ApiConnection(\n",
    "    client_id=CLIENT_ID,\n",
    "    client_secret=CLIENT_SECRET\n",
    ")\n",
    "\n",
    "api = ee.EveractiveApi(api_connection=conn)"
   ]
  },
  {
   "cell_type": "markdown",
   "id": "182a5138",
   "metadata": {},
   "source": [
    "## Pull Eversensors Associated with Your Account"
   ]
  },
  {
   "cell_type": "markdown",
   "id": "939ab293",
   "metadata": {},
   "source": [
    "To get all of the Eversensors associated with your account, use the `get_all_eversensors()` call. All methods that return API data accept an `output_format` argument that specifies `json` (the default) or `pandas`."
   ]
  },
  {
   "cell_type": "code",
   "execution_count": 5,
   "id": "ed23c815",
   "metadata": {},
   "outputs": [
    {
     "name": "stderr",
     "output_type": "stream",
     "text": [
      "[DEBUG] 2023-01-23 16:34:25 (884) api_connection: Requested URL: https://api.data.everactive.com/ds/v1/eversensors?page=1&page-size=500&sort-by=mac-address&devkitBundled=True\n",
      "[DEBUG] 2023-01-23 16:34:25 (884) api_connection: Page: 1/1, Total Items: 85\n"
     ]
    },
    {
     "name": "stdout",
     "output_type": "stream",
     "text": [
      "Fetched 85 eversensors.\n"
     ]
    }
   ],
   "source": [
    "eversensors = api.get_all_eversensors()\n",
    "print(f\"Fetched {len(eversensors)} eversensors.\")"
   ]
  },
  {
   "cell_type": "code",
   "execution_count": 6,
   "id": "20c06ad4",
   "metadata": {},
   "outputs": [
    {
     "data": {
      "text/plain": [
       "{'customer': {'id': '5a47e64a-aa0a-43fd-b801-732247e8ae5e',\n",
       "  'isSandbox': False,\n",
       "  'name': 'NUS',\n",
       "  'status': 'Production'},\n",
       " 'devkitBundled': True,\n",
       " 'lastAssociation': {'gatewaySerialNumber': '',\n",
       "  'timestamp': '2022-12-06T20:52:17.000Z'},\n",
       " 'lastInfo': {'firmwareVersion': 'tinytiger-f0/v1.0.0-r1232d30e',\n",
       "  'gatewaySerialNumber': '',\n",
       "  'partNumber': '810-00039',\n",
       "  'sensorSerialNumber': '22420008',\n",
       "  'timestamp': '2022-12-06T20:53:01.000Z'},\n",
       " 'lastReading': {'scap': 1.75,\n",
       "  'vcap': 2.4375,\n",
       "  'schema': 'https://evr.ac/schemas/platform/eversensor/environmental/v1/reading',\n",
       "  'timestamp': 1670339260,\n",
       "  'loadCounts': [{'trim': 4, 'count': 15, 'measurementTime': 10}],\n",
       "  'macAddress': 'bc:5e:a1:00:00:00:5e:17',\n",
       "  'rssiUplink': -58,\n",
       "  'readingDate': '2022-12-06T15:07:40Z',\n",
       "  'unsolicited': False,\n",
       "  'schemaVersion': 'v1',\n",
       "  'gatewaySerialNumber': 'PMM-QA0002',\n",
       "  'movementMeasurement': {'initialAcceleration': {'x': 48,\n",
       "    'y': -60,\n",
       "    'z': -1005}},\n",
       "  'packetNumberGateway': 84197,\n",
       "  'pressureMeasurement': 1017,\n",
       "  'humidityMeasurements': [{'value': 32.75, 'sensorIndex': 0}],\n",
       "  'packetNumberEversensor': 24,\n",
       "  'temperatureMeasurements': [{'value': 295.25, 'sensorIndex': 0},\n",
       "   {'value': 240, 'sensorIndex': 1}]},\n",
       " 'macAddress': 'bc:5e:a1:00:00:00:5e:17',\n",
       " 'manufacturedFirmwareVersion': 'tinytiger-f0/v0.5.6-re078d61c',\n",
       " 'type': 'Environmental'}"
      ]
     },
     "execution_count": 6,
     "metadata": {},
     "output_type": "execute_result"
    }
   ],
   "source": [
    "eversensors[0]"
   ]
  },
  {
   "cell_type": "markdown",
   "id": "cb049f0e",
   "metadata": {},
   "source": [
    "## Pull Readings for a Single Eversensor"
   ]
  },
  {
   "cell_type": "code",
   "execution_count": 7,
   "id": "f6336209",
   "metadata": {},
   "outputs": [
    {
     "data": {
      "text/plain": [
       "'bc:5e:a1:00:00:00:5e:17'"
      ]
     },
     "execution_count": 7,
     "metadata": {},
     "output_type": "execute_result"
    }
   ],
   "source": [
    "sensor_mac_address = eversensors[0][\"macAddress\"]\n",
    "sensor_mac_address"
   ]
  },
  {
   "cell_type": "markdown",
   "id": "ffee779c",
   "metadata": {},
   "source": [
    "### Examine Returned Eversensor Reading Schema"
   ]
  },
  {
   "cell_type": "code",
   "execution_count": 8,
   "id": "c78a6fdb",
   "metadata": {},
   "outputs": [
    {
     "data": {
      "text/plain": [
       "{'scap': 1.75,\n",
       " 'vcap': 2.4375,\n",
       " 'schema': 'https://evr.ac/schemas/platform/eversensor/environmental/v1/reading',\n",
       " 'timestamp': 1670339260,\n",
       " 'loadCounts': [{'trim': 4, 'count': 15, 'measurementTime': 10}],\n",
       " 'macAddress': 'bc:5e:a1:00:00:00:5e:17',\n",
       " 'rssiUplink': -58,\n",
       " 'readingDate': '2022-12-06T15:07:40Z',\n",
       " 'unsolicited': False,\n",
       " 'schemaVersion': 'v1',\n",
       " 'gatewaySerialNumber': 'PMM-QA0002',\n",
       " 'movementMeasurement': {'initialAcceleration': {'x': 48,\n",
       "   'y': -60,\n",
       "   'z': -1005}},\n",
       " 'packetNumberGateway': 84197,\n",
       " 'pressureMeasurement': 1017,\n",
       " 'humidityMeasurements': [{'value': 32.75, 'sensorIndex': 0}],\n",
       " 'packetNumberEversensor': 24,\n",
       " 'temperatureMeasurements': [{'value': 295.25, 'sensorIndex': 0},\n",
       "  {'value': 240, 'sensorIndex': 1}]}"
      ]
     },
     "execution_count": 8,
     "metadata": {},
     "output_type": "execute_result"
    }
   ],
   "source": [
    "last_reading = api.get_eversensor_last_reading(sensor_mac_address)\n",
    "last_reading"
   ]
  },
  {
   "cell_type": "markdown",
   "id": "541c3323",
   "metadata": {},
   "source": [
    "### Pull Last 24 Hours of Reported Readings for Eversensor"
   ]
  },
  {
   "cell_type": "code",
   "execution_count": 9,
   "id": "0945f7e3",
   "metadata": {},
   "outputs": [],
   "source": [
    "start_time = last_reading[\"timestamp\"] - 24*60*60\n",
    "end_time = last_reading[\"timestamp\"]\n",
    "\n",
    "df = api.get_eversensor_readings(\n",
    "    sensor_mac_address,\n",
    "    start_time=start_time,\n",
    "    end_time=end_time,\n",
    "    output_format=\"pandas\"\n",
    ")"
   ]
  },
  {
   "cell_type": "code",
   "execution_count": 10,
   "id": "8ba29802",
   "metadata": {},
   "outputs": [
    {
     "name": "stdout",
     "output_type": "stream",
     "text": [
      "(0, 0)\n"
     ]
    },
    {
     "data": {
      "text/html": [
       "<div>\n",
       "<style scoped>\n",
       "    .dataframe tbody tr th:only-of-type {\n",
       "        vertical-align: middle;\n",
       "    }\n",
       "\n",
       "    .dataframe tbody tr th {\n",
       "        vertical-align: top;\n",
       "    }\n",
       "\n",
       "    .dataframe thead th {\n",
       "        text-align: right;\n",
       "    }\n",
       "</style>\n",
       "<table border=\"1\" class=\"dataframe\">\n",
       "  <thead>\n",
       "    <tr style=\"text-align: right;\">\n",
       "      <th></th>\n",
       "    </tr>\n",
       "  </thead>\n",
       "  <tbody>\n",
       "  </tbody>\n",
       "</table>\n",
       "</div>"
      ],
      "text/plain": [
       "Empty DataFrame\n",
       "Columns: []\n",
       "Index: []"
      ]
     },
     "execution_count": 10,
     "metadata": {},
     "output_type": "execute_result"
    }
   ],
   "source": [
    "print(df.shape)\n",
    "df.head()"
   ]
  },
  {
   "cell_type": "markdown",
   "id": "4a7088ce",
   "metadata": {},
   "source": [
    "### Identify Eversensor Movement Events"
   ]
  },
  {
   "cell_type": "markdown",
   "id": "6bcb2e44",
   "metadata": {},
   "source": [
    "If there are detected movement events in your retrieved eversensor data, you will see a `movementMeasurement_movement` column in the results DataFrame. We'll pull out any movement events present in the sensor readings."
   ]
  },
  {
   "cell_type": "code",
   "execution_count": 11,
   "id": "1534a9eb",
   "metadata": {},
   "outputs": [],
   "source": [
    "movement_events = []\n",
    "\n",
    "if \"movementMeasurement_movement\" in df.columns:\n",
    "    movement_detected = df[\"movementMeasurement_movement\"].fillna(False)\n",
    "\n",
    "    for _, row in df[movement_detected].iterrows():\n",
    "        movement_events.append({\n",
    "            \"macAddress\": row[\"macAddress\"],\n",
    "            \"timestamp\" : row[\"timestamp\"],\n",
    "            \"readingDate\" : row[\"readingDate\"],\n",
    "        })\n",
    "\n",
    "df_movements = pd.DataFrame(movement_events)"
   ]
  },
  {
   "cell_type": "code",
   "execution_count": 12,
   "id": "cad64a19",
   "metadata": {},
   "outputs": [
    {
     "data": {
      "text/html": [
       "<div>\n",
       "<style scoped>\n",
       "    .dataframe tbody tr th:only-of-type {\n",
       "        vertical-align: middle;\n",
       "    }\n",
       "\n",
       "    .dataframe tbody tr th {\n",
       "        vertical-align: top;\n",
       "    }\n",
       "\n",
       "    .dataframe thead th {\n",
       "        text-align: right;\n",
       "    }\n",
       "</style>\n",
       "<table border=\"1\" class=\"dataframe\">\n",
       "  <thead>\n",
       "    <tr style=\"text-align: right;\">\n",
       "      <th></th>\n",
       "    </tr>\n",
       "  </thead>\n",
       "  <tbody>\n",
       "  </tbody>\n",
       "</table>\n",
       "</div>"
      ],
      "text/plain": [
       "Empty DataFrame\n",
       "Columns: []\n",
       "Index: []"
      ]
     },
     "execution_count": 12,
     "metadata": {},
     "output_type": "execute_result"
    }
   ],
   "source": [
    "df_movements.head()"
   ]
  },
  {
   "cell_type": "markdown",
   "id": "c7f72f80",
   "metadata": {},
   "source": [
    "## Visualize Eversensor Readings"
   ]
  },
  {
   "cell_type": "code",
   "execution_count": 13,
   "id": "1760efb4",
   "metadata": {},
   "outputs": [],
   "source": [
    "CHART_HEIGHT = 300\n",
    "CHART_WIDTH = 700"
   ]
  },
  {
   "cell_type": "code",
   "execution_count": 14,
   "id": "55ac4319",
   "metadata": {},
   "outputs": [
    {
     "name": "stderr",
     "output_type": "stream",
     "text": [
      "/root/.cache/pypoetry/virtualenvs/everactive-envplus-9CdbqzWc-py3.9/lib/python3.9/site-packages/altair/utils/core.py:317: FutureWarning: iteritems is deprecated and will be removed in a future version. Use .items instead.\n",
      "  for col_name, dtype in df.dtypes.iteritems():\n"
     ]
    },
    {
     "data": {
      "text/html": [
       "\n",
       "<div id=\"altair-viz-c3d6c99742444d32a221274722ed07b9\"></div>\n",
       "<script type=\"text/javascript\">\n",
       "  var VEGA_DEBUG = (typeof VEGA_DEBUG == \"undefined\") ? {} : VEGA_DEBUG;\n",
       "  (function(spec, embedOpt){\n",
       "    let outputDiv = document.currentScript.previousElementSibling;\n",
       "    if (outputDiv.id !== \"altair-viz-c3d6c99742444d32a221274722ed07b9\") {\n",
       "      outputDiv = document.getElementById(\"altair-viz-c3d6c99742444d32a221274722ed07b9\");\n",
       "    }\n",
       "    const paths = {\n",
       "      \"vega\": \"https://cdn.jsdelivr.net/npm//vega@5?noext\",\n",
       "      \"vega-lib\": \"https://cdn.jsdelivr.net/npm//vega-lib?noext\",\n",
       "      \"vega-lite\": \"https://cdn.jsdelivr.net/npm//vega-lite@4.17.0?noext\",\n",
       "      \"vega-embed\": \"https://cdn.jsdelivr.net/npm//vega-embed@6?noext\",\n",
       "    };\n",
       "\n",
       "    function maybeLoadScript(lib, version) {\n",
       "      var key = `${lib.replace(\"-\", \"\")}_version`;\n",
       "      return (VEGA_DEBUG[key] == version) ?\n",
       "        Promise.resolve(paths[lib]) :\n",
       "        new Promise(function(resolve, reject) {\n",
       "          var s = document.createElement('script');\n",
       "          document.getElementsByTagName(\"head\")[0].appendChild(s);\n",
       "          s.async = true;\n",
       "          s.onload = () => {\n",
       "            VEGA_DEBUG[key] = version;\n",
       "            return resolve(paths[lib]);\n",
       "          };\n",
       "          s.onerror = () => reject(`Error loading script: ${paths[lib]}`);\n",
       "          s.src = paths[lib];\n",
       "        });\n",
       "    }\n",
       "\n",
       "    function showError(err) {\n",
       "      outputDiv.innerHTML = `<div class=\"error\" style=\"color:red;\">${err}</div>`;\n",
       "      throw err;\n",
       "    }\n",
       "\n",
       "    function displayChart(vegaEmbed) {\n",
       "      vegaEmbed(outputDiv, spec, embedOpt)\n",
       "        .catch(err => showError(`Javascript Error: ${err.message}<br>This usually means there's a typo in your chart specification. See the javascript console for the full traceback.`));\n",
       "    }\n",
       "\n",
       "    if(typeof define === \"function\" && define.amd) {\n",
       "      requirejs.config({paths});\n",
       "      require([\"vega-embed\"], displayChart, err => showError(`Error loading script: ${err.message}`));\n",
       "    } else {\n",
       "      maybeLoadScript(\"vega\", \"5\")\n",
       "        .then(() => maybeLoadScript(\"vega-lite\", \"4.17.0\"))\n",
       "        .then(() => maybeLoadScript(\"vega-embed\", \"6\"))\n",
       "        .catch(showError)\n",
       "        .then(() => displayChart(vegaEmbed));\n",
       "    }\n",
       "  })({\"config\": {\"view\": {\"continuousWidth\": 400, \"continuousHeight\": 300}}, \"layer\": [{\"data\": {\"name\": \"data-d751713988987e9331980363e24189ce\"}, \"mark\": \"circle\", \"encoding\": {\"x\": {\"field\": \"readingDate\", \"type\": \"temporal\"}, \"y\": {\"field\": \"pressureMeasurement\", \"type\": \"quantitative\"}}}, {\"data\": {\"name\": \"data-d751713988987e9331980363e24189ce\"}, \"mark\": \"rule\", \"encoding\": {\"x\": {\"field\": \"readingDate\", \"type\": \"temporal\"}}}], \"height\": 300, \"width\": 700, \"$schema\": \"https://vega.github.io/schema/vega-lite/v4.17.0.json\", \"datasets\": {\"data-d751713988987e9331980363e24189ce\": []}}, {\"mode\": \"vega-lite\"});\n",
       "</script>"
      ],
      "text/plain": [
       "alt.LayerChart(...)"
      ]
     },
     "execution_count": 14,
     "metadata": {},
     "output_type": "execute_result"
    }
   ],
   "source": [
    "pressure = alt.Chart(df).mark_circle().encode(\n",
    "    alt.X(\"readingDate:T\"),\n",
    "    alt.Y(\"pressureMeasurement:Q\")\n",
    ")\n",
    "\n",
    "movements = alt.Chart(df_movements).mark_rule().encode(\n",
    "    alt.X(\"readingDate:T\")\n",
    ")\n",
    "\n",
    "alt.layer(pressure, movements).properties(height=CHART_HEIGHT, width=CHART_WIDTH)"
   ]
  },
  {
   "cell_type": "code",
   "execution_count": 15,
   "id": "d5bd4887",
   "metadata": {},
   "outputs": [
    {
     "data": {
      "text/html": [
       "\n",
       "<div id=\"altair-viz-ddf0d1793f3645f1b912e59afecab3da\"></div>\n",
       "<script type=\"text/javascript\">\n",
       "  var VEGA_DEBUG = (typeof VEGA_DEBUG == \"undefined\") ? {} : VEGA_DEBUG;\n",
       "  (function(spec, embedOpt){\n",
       "    let outputDiv = document.currentScript.previousElementSibling;\n",
       "    if (outputDiv.id !== \"altair-viz-ddf0d1793f3645f1b912e59afecab3da\") {\n",
       "      outputDiv = document.getElementById(\"altair-viz-ddf0d1793f3645f1b912e59afecab3da\");\n",
       "    }\n",
       "    const paths = {\n",
       "      \"vega\": \"https://cdn.jsdelivr.net/npm//vega@5?noext\",\n",
       "      \"vega-lib\": \"https://cdn.jsdelivr.net/npm//vega-lib?noext\",\n",
       "      \"vega-lite\": \"https://cdn.jsdelivr.net/npm//vega-lite@4.17.0?noext\",\n",
       "      \"vega-embed\": \"https://cdn.jsdelivr.net/npm//vega-embed@6?noext\",\n",
       "    };\n",
       "\n",
       "    function maybeLoadScript(lib, version) {\n",
       "      var key = `${lib.replace(\"-\", \"\")}_version`;\n",
       "      return (VEGA_DEBUG[key] == version) ?\n",
       "        Promise.resolve(paths[lib]) :\n",
       "        new Promise(function(resolve, reject) {\n",
       "          var s = document.createElement('script');\n",
       "          document.getElementsByTagName(\"head\")[0].appendChild(s);\n",
       "          s.async = true;\n",
       "          s.onload = () => {\n",
       "            VEGA_DEBUG[key] = version;\n",
       "            return resolve(paths[lib]);\n",
       "          };\n",
       "          s.onerror = () => reject(`Error loading script: ${paths[lib]}`);\n",
       "          s.src = paths[lib];\n",
       "        });\n",
       "    }\n",
       "\n",
       "    function showError(err) {\n",
       "      outputDiv.innerHTML = `<div class=\"error\" style=\"color:red;\">${err}</div>`;\n",
       "      throw err;\n",
       "    }\n",
       "\n",
       "    function displayChart(vegaEmbed) {\n",
       "      vegaEmbed(outputDiv, spec, embedOpt)\n",
       "        .catch(err => showError(`Javascript Error: ${err.message}<br>This usually means there's a typo in your chart specification. See the javascript console for the full traceback.`));\n",
       "    }\n",
       "\n",
       "    if(typeof define === \"function\" && define.amd) {\n",
       "      requirejs.config({paths});\n",
       "      require([\"vega-embed\"], displayChart, err => showError(`Error loading script: ${err.message}`));\n",
       "    } else {\n",
       "      maybeLoadScript(\"vega\", \"5\")\n",
       "        .then(() => maybeLoadScript(\"vega-lite\", \"4.17.0\"))\n",
       "        .then(() => maybeLoadScript(\"vega-embed\", \"6\"))\n",
       "        .catch(showError)\n",
       "        .then(() => displayChart(vegaEmbed));\n",
       "    }\n",
       "  })({\"config\": {\"view\": {\"continuousWidth\": 400, \"continuousHeight\": 300}}, \"layer\": [{\"data\": {\"name\": \"data-d751713988987e9331980363e24189ce\"}, \"mark\": \"circle\", \"encoding\": {\"x\": {\"field\": \"readingDate\", \"type\": \"temporal\"}, \"y\": {\"field\": \"rssiUplink\", \"type\": \"quantitative\"}}}, {\"data\": {\"name\": \"data-d751713988987e9331980363e24189ce\"}, \"mark\": \"rule\", \"encoding\": {\"x\": {\"field\": \"readingDate\", \"type\": \"temporal\"}}}], \"height\": 300, \"width\": 700, \"$schema\": \"https://vega.github.io/schema/vega-lite/v4.17.0.json\", \"datasets\": {\"data-d751713988987e9331980363e24189ce\": []}}, {\"mode\": \"vega-lite\"});\n",
       "</script>"
      ],
      "text/plain": [
       "alt.LayerChart(...)"
      ]
     },
     "execution_count": 15,
     "metadata": {},
     "output_type": "execute_result"
    }
   ],
   "source": [
    "rssi = alt.Chart(df).mark_circle().encode(\n",
    "    alt.X(\"readingDate:T\"),\n",
    "    alt.Y(\"rssiUplink:Q\")\n",
    ")\n",
    "\n",
    "movements = alt.Chart(df_movements).mark_rule().encode(\n",
    "    alt.X(\"readingDate:T\")\n",
    ")\n",
    "\n",
    "alt.layer(rssi, movements).properties(height=CHART_HEIGHT, width=CHART_WIDTH)"
   ]
  },
  {
   "cell_type": "markdown",
   "id": "9c825952",
   "metadata": {},
   "source": [
    "## Join the Everactive Community"
   ]
  },
  {
   "cell_type": "code",
   "execution_count": null,
   "id": "971fb408",
   "metadata": {},
   "outputs": [],
   "source": []
  }
 ],
 "metadata": {
  "kernelspec": {
   "display_name": "python-notebook-sample",
   "language": "python",
   "name": "python-notebook-sample"
  },
  "language_info": {
   "codemirror_mode": {
    "name": "ipython",
    "version": 3
   },
   "file_extension": ".py",
   "mimetype": "text/x-python",
   "name": "python",
   "nbconvert_exporter": "python",
   "pygments_lexer": "ipython3",
   "version": "3.9.14"
  }
 },
 "nbformat": 4,
 "nbformat_minor": 5
}
